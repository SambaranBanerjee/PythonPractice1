{
 "cells": [
  {
   "cell_type": "code",
   "id": "initial_id",
   "metadata": {
    "collapsed": true,
    "ExecuteTime": {
     "end_time": "2025-09-02T21:22:19.220550Z",
     "start_time": "2025-09-02T21:22:19.214457Z"
    }
   },
   "source": [
    "set1 = (13,44,52,2);\n",
    "print(set1)"
   ],
   "outputs": [
    {
     "name": "stdout",
     "output_type": "stream",
     "text": [
      "(13, 44, 52, 2)\n"
     ]
    }
   ],
   "execution_count": 1
  },
  {
   "metadata": {
    "ExecuteTime": {
     "end_time": "2025-09-02T21:22:58.734422Z",
     "start_time": "2025-09-02T21:22:58.729942Z"
    }
   },
   "cell_type": "code",
   "source": "print(set1.index(13));",
   "id": "d359ab9f7ad0a379",
   "outputs": [
    {
     "name": "stdout",
     "output_type": "stream",
     "text": [
      "0\n"
     ]
    }
   ],
   "execution_count": 3
  },
  {
   "metadata": {
    "ExecuteTime": {
     "end_time": "2025-09-02T21:23:14.049122Z",
     "start_time": "2025-09-02T21:23:14.036342Z"
    }
   },
   "cell_type": "code",
   "source": "print(set1.count(2));",
   "id": "adddc1bfe892c22e",
   "outputs": [
    {
     "name": "stdout",
     "output_type": "stream",
     "text": [
      "1\n"
     ]
    }
   ],
   "execution_count": 4
  },
  {
   "metadata": {
    "ExecuteTime": {
     "end_time": "2025-09-02T21:23:46.969757Z",
     "start_time": "2025-09-02T21:23:46.963337Z"
    }
   },
   "cell_type": "code",
   "source": [
    "list1 = [44,2,11,4,55,0];\n",
    "set2 = set(list1);\n",
    "print(set2);"
   ],
   "id": "43356c4a78afeee5",
   "outputs": [
    {
     "name": "stdout",
     "output_type": "stream",
     "text": [
      "{0, 2, 4, 11, 44, 55}\n"
     ]
    }
   ],
   "execution_count": 5
  },
  {
   "metadata": {
    "ExecuteTime": {
     "end_time": "2025-09-02T21:24:05.668385Z",
     "start_time": "2025-09-02T21:24:05.665026Z"
    }
   },
   "cell_type": "code",
   "source": [
    "list1 = list(set2);\n",
    "print(list1);"
   ],
   "id": "c3ac75bf65cd70bc",
   "outputs": [
    {
     "name": "stdout",
     "output_type": "stream",
     "text": [
      "[0, 2, 4, 11, 44, 55]\n"
     ]
    }
   ],
   "execution_count": 6
  },
  {
   "metadata": {},
   "cell_type": "code",
   "outputs": [],
   "execution_count": null,
   "source": "",
   "id": "c1d0c5dfe6e99523"
  }
 ],
 "metadata": {
  "kernelspec": {
   "display_name": "Python 3",
   "language": "python",
   "name": "python3"
  },
  "language_info": {
   "codemirror_mode": {
    "name": "ipython",
    "version": 2
   },
   "file_extension": ".py",
   "mimetype": "text/x-python",
   "name": "python",
   "nbconvert_exporter": "python",
   "pygments_lexer": "ipython2",
   "version": "2.7.6"
  }
 },
 "nbformat": 4,
 "nbformat_minor": 5
}
