{
 "cells": [
  {
   "cell_type": "code",
   "id": "initial_id",
   "metadata": {
    "collapsed": true,
    "ExecuteTime": {
     "end_time": "2025-09-02T21:43:29.363310Z",
     "start_time": "2025-09-02T21:43:29.341808Z"
    }
   },
   "source": [
    "def countVowels(s):\n",
    "    count = 0;\n",
    "    for i in s:\n",
    "        if(i == 'a' or i == 'e' or i == 'i' or i == 'o' or i == 'u'):\n",
    "            count += 1;\n",
    "    return count;\n",
    "            \n",
    "\n",
    "string1 = \"hello\";\n",
    "print(countVowels(string1));"
   ],
   "outputs": [
    {
     "name": "stdout",
     "output_type": "stream",
     "text": [
      "2\n"
     ]
    }
   ],
   "execution_count": 2
  },
  {
   "metadata": {
    "ExecuteTime": {
     "end_time": "2025-09-02T21:57:43.284468Z",
     "start_time": "2025-09-02T21:57:43.276994Z"
    }
   },
   "cell_type": "code",
   "source": [
    "def giveNtimes(n):\n",
    "    return lambda a : a * n;\n",
    "give2times = giveNtimes(2);\n",
    "print(give2times(3));"
   ],
   "id": "5863e5010aba1443",
   "outputs": [
    {
     "name": "stdout",
     "output_type": "stream",
     "text": [
      "6\n"
     ]
    }
   ],
   "execution_count": 4
  },
  {
   "metadata": {
    "ExecuteTime": {
     "end_time": "2025-09-02T21:59:49.117157Z",
     "start_time": "2025-09-02T21:59:49.108626Z"
    }
   },
   "cell_type": "code",
   "source": [
    "f1 = lambda a,b,c : (a + b)/c;\n",
    "print(f1(2,3,3));"
   ],
   "id": "703cb623ac9a67b5",
   "outputs": [
    {
     "name": "stdout",
     "output_type": "stream",
     "text": [
      "1.6666666666666667\n"
     ]
    }
   ],
   "execution_count": 6
  },
  {
   "metadata": {},
   "cell_type": "code",
   "outputs": [],
   "execution_count": null,
   "source": "",
   "id": "920561669a443795"
  }
 ],
 "metadata": {
  "kernelspec": {
   "display_name": "Python 3",
   "language": "python",
   "name": "python3"
  },
  "language_info": {
   "codemirror_mode": {
    "name": "ipython",
    "version": 2
   },
   "file_extension": ".py",
   "mimetype": "text/x-python",
   "name": "python",
   "nbconvert_exporter": "python",
   "pygments_lexer": "ipython2",
   "version": "2.7.6"
  }
 },
 "nbformat": 4,
 "nbformat_minor": 5
}
