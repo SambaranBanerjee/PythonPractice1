{
 "cells": [
  {
   "cell_type": "code",
   "id": "initial_id",
   "metadata": {
    "collapsed": true,
    "ExecuteTime": {
     "end_time": "2025-09-02T21:30:24.656774Z",
     "start_time": "2025-09-02T21:30:24.645952Z"
    }
   },
   "source": [
    "s1 = \"hello\";\n",
    "print(s1.capitalize());"
   ],
   "outputs": [
    {
     "name": "stdout",
     "output_type": "stream",
     "text": [
      "Hello\n"
     ]
    }
   ],
   "execution_count": 3
  },
  {
   "metadata": {
    "ExecuteTime": {
     "end_time": "2025-09-02T21:32:01.798613Z",
     "start_time": "2025-09-02T21:32:01.792026Z"
    }
   },
   "cell_type": "code",
   "source": [
    "print(s1.index(\"l\"));\n",
    "print(s1.index(\"ll\"));\n",
    "print(s1.index(\"o\"));"
   ],
   "id": "874f60e29297a691",
   "outputs": [
    {
     "name": "stdout",
     "output_type": "stream",
     "text": [
      "2\n",
      "2\n",
      "4\n"
     ]
    }
   ],
   "execution_count": 6
  },
  {
   "metadata": {
    "ExecuteTime": {
     "end_time": "2025-09-02T21:32:16.492159Z",
     "start_time": "2025-09-02T21:32:16.486382Z"
    }
   },
   "cell_type": "code",
   "source": "print(s1.count(\"l\"));",
   "id": "d033fca45fc5986b",
   "outputs": [
    {
     "name": "stdout",
     "output_type": "stream",
     "text": [
      "2\n"
     ]
    }
   ],
   "execution_count": 7
  },
  {
   "metadata": {
    "ExecuteTime": {
     "end_time": "2025-09-02T21:33:20.848816Z",
     "start_time": "2025-09-02T21:33:20.838842Z"
    }
   },
   "cell_type": "code",
   "source": "print(s1.find(\"o\"));",
   "id": "2577118333a0c115",
   "outputs": [
    {
     "name": "stdout",
     "output_type": "stream",
     "text": [
      "4\n"
     ]
    }
   ],
   "execution_count": 9
  },
  {
   "metadata": {
    "ExecuteTime": {
     "end_time": "2025-09-02T21:33:54.395180Z",
     "start_time": "2025-09-02T21:33:54.386330Z"
    }
   },
   "cell_type": "code",
   "source": "print(s1.encode());",
   "id": "2c7f9062ca95cf05",
   "outputs": [
    {
     "name": "stdout",
     "output_type": "stream",
     "text": [
      "b'hello'\n"
     ]
    }
   ],
   "execution_count": 10
  },
  {
   "metadata": {
    "ExecuteTime": {
     "end_time": "2025-09-02T21:36:26.681865Z",
     "start_time": "2025-09-02T21:36:26.672965Z"
    }
   },
   "cell_type": "code",
   "source": [
    "print(s1.isalpha());\n",
    "print(s1.isupper());\n",
    "print(s1.islower());\n",
    "print(s1.isidentifier());"
   ],
   "id": "15b2225f26477514",
   "outputs": [
    {
     "name": "stdout",
     "output_type": "stream",
     "text": [
      "True\n",
      "False\n",
      "True\n",
      "True\n"
     ]
    }
   ],
   "execution_count": 12
  },
  {
   "metadata": {},
   "cell_type": "code",
   "outputs": [],
   "execution_count": null,
   "source": "",
   "id": "cc2c48320d0f3ed1"
  }
 ],
 "metadata": {
  "kernelspec": {
   "display_name": "Python 3",
   "language": "python",
   "name": "python3"
  },
  "language_info": {
   "codemirror_mode": {
    "name": "ipython",
    "version": 2
   },
   "file_extension": ".py",
   "mimetype": "text/x-python",
   "name": "python",
   "nbconvert_exporter": "python",
   "pygments_lexer": "ipython2",
   "version": "2.7.6"
  }
 },
 "nbformat": 4,
 "nbformat_minor": 5
}
