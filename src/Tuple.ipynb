{
 "cells": [
  {
   "cell_type": "code",
   "id": "initial_id",
   "metadata": {
    "collapsed": true,
    "ExecuteTime": {
     "end_time": "2025-09-02T21:25:28.030942Z",
     "start_time": "2025-09-02T21:25:28.025541Z"
    }
   },
   "source": [
    "tuple1 = (11,2,44,3);\n",
    "print(tuple1)"
   ],
   "outputs": [
    {
     "name": "stdout",
     "output_type": "stream",
     "text": [
      "(11, 2, 44, 3)\n"
     ]
    }
   ],
   "execution_count": 1
  },
  {
   "metadata": {
    "ExecuteTime": {
     "end_time": "2025-09-02T21:25:49.056675Z",
     "start_time": "2025-09-02T21:25:49.049235Z"
    }
   },
   "cell_type": "code",
   "source": "print(tuple1.count(2));",
   "id": "c557949bace0218f",
   "outputs": [
    {
     "name": "stdout",
     "output_type": "stream",
     "text": [
      "1\n"
     ]
    }
   ],
   "execution_count": 2
  },
  {
   "metadata": {
    "ExecuteTime": {
     "end_time": "2025-09-02T21:26:09.204520Z",
     "start_time": "2025-09-02T21:26:09.193642Z"
    }
   },
   "cell_type": "code",
   "source": "print(tuple1.index(44));",
   "id": "fc40cdb0f3cbe809",
   "outputs": [
    {
     "name": "stdout",
     "output_type": "stream",
     "text": [
      "2\n"
     ]
    }
   ],
   "execution_count": 3
  },
  {
   "metadata": {
    "ExecuteTime": {
     "end_time": "2025-09-02T21:26:38.851294Z",
     "start_time": "2025-09-02T21:26:38.841139Z"
    }
   },
   "cell_type": "code",
   "source": "print(type(tuple1));",
   "id": "92310a4963647744",
   "outputs": [
    {
     "name": "stdout",
     "output_type": "stream",
     "text": [
      "<class 'tuple'>\n"
     ]
    }
   ],
   "execution_count": 4
  },
  {
   "metadata": {},
   "cell_type": "code",
   "outputs": [],
   "execution_count": null,
   "source": "",
   "id": "d18bebcecfe34740"
  }
 ],
 "metadata": {
  "kernelspec": {
   "display_name": "Python 3",
   "language": "python",
   "name": "python3"
  },
  "language_info": {
   "codemirror_mode": {
    "name": "ipython",
    "version": 2
   },
   "file_extension": ".py",
   "mimetype": "text/x-python",
   "name": "python",
   "nbconvert_exporter": "python",
   "pygments_lexer": "ipython2",
   "version": "2.7.6"
  }
 },
 "nbformat": 4,
 "nbformat_minor": 5
}
