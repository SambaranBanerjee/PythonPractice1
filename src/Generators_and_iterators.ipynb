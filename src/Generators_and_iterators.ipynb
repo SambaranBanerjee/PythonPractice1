{
 "cells": [
  {
   "cell_type": "code",
   "id": "initial_id",
   "metadata": {
    "collapsed": true,
    "ExecuteTime": {
     "end_time": "2025-09-03T06:29:25.025535Z",
     "start_time": "2025-09-03T06:29:25.018626Z"
    }
   },
   "source": [
    "from nbconvert.nbconvertapp import dejavu_main\n",
    "\n",
    "list1 = [32,11,5,66];\n",
    "itr = iter(list1);\n",
    "print(itr);"
   ],
   "outputs": [
    {
     "name": "stdout",
     "output_type": "stream",
     "text": [
      "<list_iterator object at 0x000001B8BD9C7760>\n"
     ]
    }
   ],
   "execution_count": 7
  },
  {
   "metadata": {
    "ExecuteTime": {
     "end_time": "2025-09-03T06:29:19.213428Z",
     "start_time": "2025-09-03T06:29:18.973299Z"
    }
   },
   "cell_type": "code",
   "source": "print(next(itr));",
   "id": "d04be2087d0605c7",
   "outputs": [
    {
     "ename": "StopIteration",
     "evalue": "",
     "output_type": "error",
     "traceback": [
      "\u001B[31m---------------------------------------------------------------------------\u001B[39m",
      "\u001B[31mStopIteration\u001B[39m                             Traceback (most recent call last)",
      "\u001B[36mCell\u001B[39m\u001B[36m \u001B[39m\u001B[32mIn[6]\u001B[39m\u001B[32m, line 1\u001B[39m\n\u001B[32m----> \u001B[39m\u001B[32m1\u001B[39m \u001B[38;5;28mprint\u001B[39m(\u001B[38;5;28;43mnext\u001B[39;49m\u001B[43m(\u001B[49m\u001B[43mitr\u001B[49m\u001B[43m)\u001B[49m);\n",
      "\u001B[31mStopIteration\u001B[39m: "
     ]
    }
   ],
   "execution_count": 6
  },
  {
   "metadata": {
    "ExecuteTime": {
     "end_time": "2025-09-03T06:32:26.160604Z",
     "start_time": "2025-09-03T06:32:26.154083Z"
    }
   },
   "cell_type": "code",
   "source": [
    "try:\n",
    "    print(next(itr));\n",
    "except StopIteration:\n",
    "    print(\"No more elements present\");"
   ],
   "id": "70a51df7e198633",
   "outputs": [
    {
     "name": "stdout",
     "output_type": "stream",
     "text": [
      "No more elements present\n"
     ]
    }
   ],
   "execution_count": 12
  },
  {
   "metadata": {
    "ExecuteTime": {
     "end_time": "2025-09-03T06:35:59.072582Z",
     "start_time": "2025-09-03T06:35:59.050944Z"
    }
   },
   "cell_type": "code",
   "source": [
    "def square(x):\n",
    "    for i in range(x):\n",
    "        yield i**2;\n",
    "for i in square(5):\n",
    "    print(i);"
   ],
   "id": "bf71fdd5e60016ae",
   "outputs": [
    {
     "name": "stdout",
     "output_type": "stream",
     "text": [
      "0\n",
      "1\n",
      "4\n",
      "9\n",
      "16\n"
     ]
    }
   ],
   "execution_count": 14
  },
  {
   "metadata": {},
   "cell_type": "code",
   "outputs": [],
   "execution_count": null,
   "source": "",
   "id": "cff280f8f4bea9c5"
  }
 ],
 "metadata": {
  "kernelspec": {
   "display_name": "Python 3",
   "language": "python",
   "name": "python3"
  },
  "language_info": {
   "codemirror_mode": {
    "name": "ipython",
    "version": 2
   },
   "file_extension": ".py",
   "mimetype": "text/x-python",
   "name": "python",
   "nbconvert_exporter": "python",
   "pygments_lexer": "ipython2",
   "version": "2.7.6"
  }
 },
 "nbformat": 4,
 "nbformat_minor": 5
}
