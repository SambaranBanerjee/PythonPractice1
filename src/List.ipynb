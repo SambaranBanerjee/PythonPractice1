{
 "cells": [
  {
   "cell_type": "code",
   "id": "initial_id",
   "metadata": {
    "collapsed": true,
    "ExecuteTime": {
     "end_time": "2025-09-02T20:27:54.878068Z",
     "start_time": "2025-09-02T20:27:47.060420Z"
    }
   },
   "source": [
    "array1 = [23,11,45,4];\n",
    "print(array1);\n",
    "x = int(input(\"Enter the value of x: \"));\n",
    "array1.append(x);\n",
    "print(array1);\n",
    "array2 = [32,10];\n",
    "array1.extend(array2);\n",
    "print(array1);\n",
    "array1.append(array2);\n",
    "print(array1);"
   ],
   "outputs": [
    {
     "name": "stdout",
     "output_type": "stream",
     "text": [
      "[23, 11, 45, 4]\n",
      "[23, 11, 45, 4, 31]\n",
      "[23, 11, 45, 4, 31, 32, 10]\n",
      "[23, 11, 45, 4, 31, 32, 10, [32, 10]]\n"
     ]
    }
   ],
   "execution_count": 2
  },
  {
   "metadata": {
    "ExecuteTime": {
     "end_time": "2025-09-02T20:28:21.092696Z",
     "start_time": "2025-09-02T20:28:21.083182Z"
    }
   },
   "cell_type": "code",
   "source": [
    "array1.pop();\n",
    "print(array1);"
   ],
   "id": "8b46eeb836134050",
   "outputs": [
    {
     "name": "stdout",
     "output_type": "stream",
     "text": [
      "[23, 11, 45, 4, 31, 32, 10]\n"
     ]
    }
   ],
   "execution_count": 3
  },
  {
   "metadata": {
    "ExecuteTime": {
     "end_time": "2025-09-02T20:28:32.828165Z",
     "start_time": "2025-09-02T20:28:32.814259Z"
    }
   },
   "cell_type": "code",
   "source": [
    "array1.reverse();\n",
    "print(array1);"
   ],
   "id": "38fb297c65e35e8d",
   "outputs": [
    {
     "name": "stdout",
     "output_type": "stream",
     "text": [
      "[10, 32, 31, 4, 45, 11, 23]\n"
     ]
    }
   ],
   "execution_count": 4
  },
  {
   "metadata": {
    "ExecuteTime": {
     "end_time": "2025-09-02T20:28:46.959536Z",
     "start_time": "2025-09-02T20:28:46.947162Z"
    }
   },
   "cell_type": "code",
   "source": [
    "array1.sort();\n",
    "print(array1);"
   ],
   "id": "7a74c69ffc5924fe",
   "outputs": [
    {
     "name": "stdout",
     "output_type": "stream",
     "text": [
      "[4, 10, 11, 23, 31, 32, 45]\n"
     ]
    }
   ],
   "execution_count": 5
  },
  {
   "metadata": {
    "ExecuteTime": {
     "end_time": "2025-09-02T20:29:52.550648Z",
     "start_time": "2025-09-02T20:29:52.539648Z"
    }
   },
   "cell_type": "code",
   "source": [
    "count = array1.count(11);\n",
    "print(count);"
   ],
   "id": "8168af5da1dc1c3d",
   "outputs": [
    {
     "name": "stdout",
     "output_type": "stream",
     "text": [
      "1\n"
     ]
    }
   ],
   "execution_count": 8
  },
  {
   "metadata": {
    "ExecuteTime": {
     "end_time": "2025-09-02T20:52:09.184481Z",
     "start_time": "2025-09-02T20:52:09.178342Z"
    }
   },
   "cell_type": "code",
   "source": [
    "array3 = [];\n",
    "ind = array1.index(11);\n",
    "print(ind);"
   ],
   "id": "b98b7902c20eeaa7",
   "outputs": [
    {
     "name": "stdout",
     "output_type": "stream",
     "text": [
      "2\n"
     ]
    }
   ],
   "execution_count": 14
  },
  {
   "metadata": {
    "ExecuteTime": {
     "end_time": "2025-09-02T20:52:33.505146Z",
     "start_time": "2025-09-02T20:52:33.494610Z"
    }
   },
   "cell_type": "code",
   "source": [
    "array1.remove(10);\n",
    "print(array1);"
   ],
   "id": "f12a45f038924d02",
   "outputs": [
    {
     "name": "stdout",
     "output_type": "stream",
     "text": [
      "[4, 11, 23, 31, 32, 45]\n"
     ]
    }
   ],
   "execution_count": 15
  },
  {
   "metadata": {},
   "cell_type": "code",
   "outputs": [],
   "execution_count": null,
   "source": "",
   "id": "67ee1819eb566a27"
  }
 ],
 "metadata": {
  "kernelspec": {
   "display_name": "Python 3",
   "language": "python",
   "name": "python3"
  },
  "language_info": {
   "codemirror_mode": {
    "name": "ipython",
    "version": 2
   },
   "file_extension": ".py",
   "mimetype": "text/x-python",
   "name": "python",
   "nbconvert_exporter": "python",
   "pygments_lexer": "ipython2",
   "version": "2.7.6"
  }
 },
 "nbformat": 4,
 "nbformat_minor": 5
}
