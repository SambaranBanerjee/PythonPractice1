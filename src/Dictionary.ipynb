{
 "cells": [
  {
   "cell_type": "code",
   "id": "initial_id",
   "metadata": {
    "collapsed": true,
    "ExecuteTime": {
     "end_time": "2025-09-02T20:56:31.221094Z",
     "start_time": "2025-09-02T20:56:31.217145Z"
    }
   },
   "source": [
    "dict1 = {\"Hello\" : 1, \"World\" : 2, \"My\" : 3};\n",
    "print(dict1)"
   ],
   "outputs": [
    {
     "name": "stdout",
     "output_type": "stream",
     "text": [
      "{'Hello': 1, 'World': 2, 'My': 3}\n"
     ]
    }
   ],
   "execution_count": 2
  },
  {
   "metadata": {
    "ExecuteTime": {
     "end_time": "2025-09-02T20:56:58.267376Z",
     "start_time": "2025-09-02T20:56:58.257440Z"
    }
   },
   "cell_type": "code",
   "source": "print(dict1.get(\"Hello\"));",
   "id": "2c7d68286df4f71b",
   "outputs": [
    {
     "name": "stdout",
     "output_type": "stream",
     "text": [
      "1\n"
     ]
    }
   ],
   "execution_count": 3
  },
  {
   "metadata": {
    "ExecuteTime": {
     "end_time": "2025-09-02T20:57:23.789859Z",
     "start_time": "2025-09-02T20:57:23.782332Z"
    }
   },
   "cell_type": "code",
   "source": "print(dict1.keys());",
   "id": "f881971e106012b2",
   "outputs": [
    {
     "name": "stdout",
     "output_type": "stream",
     "text": [
      "dict_keys(['Hello', 'World', 'My'])\n"
     ]
    }
   ],
   "execution_count": 4
  },
  {
   "metadata": {
    "ExecuteTime": {
     "end_time": "2025-09-02T21:01:16.055326Z",
     "start_time": "2025-09-02T21:01:16.045339Z"
    }
   },
   "cell_type": "code",
   "source": "print(dict1.values());",
   "id": "525f9523d520d2ef",
   "outputs": [
    {
     "name": "stdout",
     "output_type": "stream",
     "text": [
      "dict_values([1, 2, 3])\n"
     ]
    }
   ],
   "execution_count": 5
  },
  {
   "metadata": {
    "ExecuteTime": {
     "end_time": "2025-09-02T21:01:21.789882Z",
     "start_time": "2025-09-02T21:01:21.780907Z"
    }
   },
   "cell_type": "code",
   "source": "print(dict1.items());",
   "id": "90afdc0f3de00606",
   "outputs": [
    {
     "name": "stdout",
     "output_type": "stream",
     "text": [
      "dict_items([('Hello', 1), ('World', 2), ('My', 3)])\n"
     ]
    }
   ],
   "execution_count": 6
  },
  {
   "metadata": {
    "ExecuteTime": {
     "end_time": "2025-09-02T21:02:12.915251Z",
     "start_time": "2025-09-02T21:02:12.904486Z"
    }
   },
   "cell_type": "code",
   "source": [
    "dict1.popitem();\n",
    "print(dict1);"
   ],
   "id": "fa3687b73d2911a1",
   "outputs": [
    {
     "name": "stdout",
     "output_type": "stream",
     "text": [
      "{'Hello': 1, 'World': 2}\n"
     ]
    }
   ],
   "execution_count": 7
  },
  {
   "metadata": {
    "ExecuteTime": {
     "end_time": "2025-09-02T21:21:28.660361Z",
     "start_time": "2025-09-02T21:21:28.645354Z"
    }
   },
   "cell_type": "code",
   "source": [
    "dict2 = {\"My\":3,\"Name\":4};\n",
    "dict1.update(dict2);\n",
    "print(dict1);"
   ],
   "id": "f89f3f1187a57a8e",
   "outputs": [
    {
     "name": "stdout",
     "output_type": "stream",
     "text": [
      "{'Hello': 1, 'World': 2, 'My': 3, 'Name': 4}\n"
     ]
    }
   ],
   "execution_count": 9
  },
  {
   "metadata": {},
   "cell_type": "code",
   "outputs": [],
   "execution_count": null,
   "source": "",
   "id": "242b8f9bd2653126"
  }
 ],
 "metadata": {
  "kernelspec": {
   "display_name": "Python 3",
   "language": "python",
   "name": "python3"
  },
  "language_info": {
   "codemirror_mode": {
    "name": "ipython",
    "version": 2
   },
   "file_extension": ".py",
   "mimetype": "text/x-python",
   "name": "python",
   "nbconvert_exporter": "python",
   "pygments_lexer": "ipython2",
   "version": "2.7.6"
  }
 },
 "nbformat": 4,
 "nbformat_minor": 5
}
